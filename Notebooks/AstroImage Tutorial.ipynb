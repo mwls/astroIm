{
 "cells": [
  {
   "cell_type": "markdown",
   "metadata": {},
   "source": [
    "# The astroImage Object #\n",
    "\n",
    "The astroIm package rebolves around the astroImage class to manipulate fits images, and is tuned to particularly work in with Far-IR/Sub-mm images. Many of the methods provided are wrappers to astropy functions. Here we show some of the more common/basic methods of the astroImage class. To finish the tutorial we show the use-case where you want to match the resolution and projection of one image to another. For more specialised examples see some of our other notebooks or the API.\n",
    "\n",
    "This tutorial obtains data from the Dustpedia database, however, you can switch it to whatever fits file you want."
   ]
  },
  {
   "cell_type": "markdown",
   "metadata": {},
   "source": [
    "## Obtaining Data for this Tutorial ##\n",
    "\n",
    "First we download example data from the dustpedia database of a SPIRE image of M100."
   ]
  },
  {
   "cell_type": "code",
   "execution_count": null,
   "metadata": {
    "scrolled": true
   },
   "outputs": [],
   "source": [
    "# import wget module to download data\n",
    "import urllib.request\n",
    "import os\n",
    "from os.path import join as pj\n",
    "\n",
    "# set folder to store data\n",
    "folder = \"/home/gandalf/spxmws/Hard-Drive/dustpedia\"\n",
    "\n",
    "# download 250 and 500um data file\n",
    "if os.path.isfile(pj(folder,\"NGC4321_SPIRE_250.fits\")) is False:\n",
    "    urllib.request.urlretrieve(\"http://www.astro.cf.ac.uk/pub/Matthew.Smith/web/astroIm/NGC4321_SPIRE_250.fits\",pj(folder,\"NGC4321_SPIRE_250.fits\"))\n",
    "if os.path.isfile(pj(folder,\"NGC4321_SPIRE_500.fits\")) is False:\n",
    "    urllib.request.urlretrieve(\"http://www.astro.cf.ac.uk/pub/Matthew.Smith/web/astroIm/NGC4321_SPIRE_500.fits\",pj(folder,\"NGC4321_SPIRE_500.fits\"))\n"
   ]
  },
  {
   "cell_type": "markdown",
   "metadata": {},
   "source": [
    "<h2>Importing the module and loading an image</h2>\n",
    "\n",
    "In the next box we will open a fits file. The code by defaults to loading the first extension, but other extensions can be loaded with the 'ext=X' parameter. The code searches the header for the instrument, band and units of the image. If this information is not present, it can be added manually (see the commented line below). Instead of a fits file the astroImage class can be initiated with an astropy hdu object (see second commented line)."
   ]
  },
  {
   "cell_type": "code",
   "execution_count": null,
   "metadata": {},
   "outputs": [],
   "source": [
    "# import module\n",
    "from astroIm import astroImage\n",
    "\n",
    "# load your fits file - adjust path to your fits file\n",
    "fitsImage = astroImage(pj(folder,\"NGC4321_SPIRE_250.fits\"))\n",
    "\n",
    "# load line with extra inputs defined\n",
    "#fitsImage = astroImage(\"file.fits\", ext=0, instrument='SPIRE', band=250, unit='Jy/pix', \"FWHM\":10.0)\n",
    "\n",
    "# load from fits hdu\n",
    "#fitsImage = astroImage(hduobject, load=False)"
   ]
  },
  {
   "cell_type": "markdown",
   "metadata": {},
   "source": [
    "As mentioned the code attempts to ascertain the instrument and band (if not given when loading the image)."
   ]
  },
  {
   "cell_type": "code",
   "execution_count": null,
   "metadata": {},
   "outputs": [],
   "source": [
    "print(\" Telescope: \", fitsImage.telescope)\n",
    "print(\"Instrument: \", fitsImage.instrument) \n",
    "print(\"      Band: \", fitsImage.band)"
   ]
  },
  {
   "cell_type": "markdown",
   "metadata": {},
   "source": [
    "Instead of providing a 2D image, a cube can be given. For more information how to do this see our 'Loading From a FITS Cube' Notebook"
   ]
  },
  {
   "cell_type": "markdown",
   "metadata": {},
   "source": [
    "<h2>Aside on Coordinates and Quantities</h2>\n",
    "\n",
    "The astroImage object tries to make most use of both [astropy](https://www.astropy.org/) SkyCoordinates and [astropy](https://www.astropy.org/) units. This has several advantages, for example when specifing a coordinate the user can specify what coordinate system is used irregardless of the coordinate system of the image, or any units can be used for sizes.\n",
    "\n",
    "For the remainder of this notebook, we'll specify the centre of M100."
   ]
  },
  {
   "cell_type": "code",
   "execution_count": null,
   "metadata": {},
   "outputs": [],
   "source": [
    "# first let's import astropy units so numbers can be given as quantities, and the SkyCoord class for locations\n",
    "# import astropy units\n",
    "import astropy.units as u\n",
    "# import astropy Sky-Coordinates\n",
    "from astropy.coordinates import SkyCoord\n",
    "\n",
    "# set the centre coordinate of M100\n",
    "centreM100 = SkyCoord(ra=185.72875*u.degree, dec=15.8225*u.degree, frame='icrs')"
   ]
  },
  {
   "cell_type": "markdown",
   "metadata": {},
   "source": [
    "<h2>Quick Plotting</h2>\n",
    "\n",
    "Quite often its useful to see a quick image of your data. The astroImage class has a method to obtain a quick image calling the [APLpy](https://aplpy.github.io/) package. The default output is to use a linear stretch:"
   ]
  },
  {
   "cell_type": "code",
   "execution_count": null,
   "metadata": {},
   "outputs": [],
   "source": [
    "# default plot\n",
    "fitsImage.plot()"
   ]
  },
  {
   "cell_type": "markdown",
   "metadata": {},
   "source": [
    "Quite often it is better for large dynamic ranges to use a log scale. The plot method has a algorithm to estimate the best parameters for a logscale:"
   ]
  },
  {
   "cell_type": "code",
   "execution_count": null,
   "metadata": {},
   "outputs": [],
   "source": [
    "# default quick look plot with log scale\n",
    "fitsImage.plot(stretch='log')"
   ]
  },
  {
   "cell_type": "markdown",
   "metadata": {},
   "source": [
    "As a final example we show some of the additional parameters that can be specified to customise the plot. In this example we set the following:\n",
    " - *cmap*: change the colour map through the cmap parameter (any colourmaps in matplotlib can be sepicifed). \n",
    " - *hide_colourbar*: set this to True to hide the colourbar from the plot. \n",
    " - *recentre*: The recentre parameter can be used to zoom in a certain region of the image. *recentre* takes a dictionary which specifies the centre by passing a astropy SkyCood through the 'coord' keyword (this is recommended method, for other options see API), and the size by specifing radius through 'rad' keyword (alternatively width and height can be specified for non-square plots)."
   ]
  },
  {
   "cell_type": "code",
   "execution_count": null,
   "metadata": {},
   "outputs": [],
   "source": [
    "# call quick look plot with log scale, different colourmap,  and centre specified\n",
    "fitsImage.plot(stretch='log', cmap='inferno', hide_colourbar=True, recentre={\"coord\":centreM100, \"rad\":6.0*u.arcmin})"
   ]
  },
  {
   "cell_type": "markdown",
   "metadata": {},
   "source": [
    "Other useful parameters the user can also specify in the method call are:\n",
    "  - *save*: use *save* to set the path where to save the plot.\n",
    "  - *vmin*, *vmax*, *vmid*: the user can specify any of the minimum, maximum or middle (log only) of the colour bar. \n",
    "  - *facecolor*: use this parameter to set the background colour outside the images.\n",
    "  - *nancolour*: use this parameter to set the NaN colour."
   ]
  },
  {
   "cell_type": "markdown",
   "metadata": {},
   "source": [
    "<h2>Accessing the image array or header</h2>\n",
    "\n",
    "Similar to astropy the image array can be found using the image and header attributes. Here, we show this by finding the mean of the image, its unit, and a header keyword."
   ]
  },
  {
   "cell_type": "code",
   "execution_count": null,
   "metadata": {},
   "outputs": [],
   "source": [
    "print(\"Image Mean: \", fitsImage.image.mean(), fitsImage.unit)\n",
    "print(\"Image Reference Pix: (\", fitsImage.header['CRPIX1'], \",\", fitsImage.header['CRPIX2'], \")\")"
   ]
  },
  {
   "cell_type": "markdown",
   "metadata": {},
   "source": [
    "<h2>Obtaining the Pixel Size</h2>\n",
    "\n",
    "To get the pixel size of the image, just use the 'pixSize' attribute. Sometimes the image header does not contain all the information (or the code could not identify it) when the object was initialised; if you've modified the header the getPixelScale() method will find the pixel size and add the 'pixSize' attribute."
   ]
  },
  {
   "cell_type": "code",
   "execution_count": null,
   "metadata": {},
   "outputs": [],
   "source": [
    "# print the pixel size as attribute\n",
    "print(fitsImage.pixSize)\n",
    "\n",
    "# if the header when loading did not have the correct WCS, can run method later to get pixel sizes\n",
    "#fitsImage.getPixelScale()"
   ]
  },
  {
   "cell_type": "markdown",
   "metadata": {},
   "source": [
    "<h2>Converting Units</h2>\n",
    "\n",
    "Possibly one of the most useful features of the astroImage class is that it provides an easy way to switch the image between different units. The user can provide the conversion to use or the beam area to assume if needed (see commented version)."
   ]
  },
  {
   "cell_type": "code",
   "execution_count": null,
   "metadata": {},
   "outputs": [],
   "source": [
    "print(\"Initial Units: \", fitsImage.unit)\n",
    "print(\"Peak Pixel: \", fitsImage.image.max(), fitsImage.unit, \"\\n\")\n",
    "\n",
    "\n",
    "# convert units to that desired\n",
    "fitsImage.convertUnits(\"MJy/sr\")\n",
    "\n",
    "# if want to provide the conversion or beam area use the following inputs\n",
    "#fitsImage.convertUnits(\"MJy/sr\", conversion=1.0, beamArea=1.0)\n",
    "\n",
    "print()\n",
    "print(\"New Units: \", fitsImage.unit)\n",
    "print(\"Peak Pixel: \", fitsImage.image.max(), fitsImage.unit, \"\\n\")"
   ]
  },
  {
   "cell_type": "markdown",
   "metadata": {},
   "source": [
    "<h2>Simple Image Arithmatic</h2>\n",
    "\n",
    "This method is a bit redundant, as you can get the image change it how you want and save it back. Alteratively, the imageManipulation method takes operation (either '+','-','*','/','$**$), followed by the value to use. Here we show standard method where we double the image and use the method to restore the image back."
   ]
  },
  {
   "cell_type": "code",
   "execution_count": null,
   "metadata": {},
   "outputs": [],
   "source": [
    "# traditional (and probably more useful method)\n",
    "fitsImage.image = fitsImage.image * 2.0\n",
    "\n",
    "# using the method\n",
    "fitsImage.imageManipulation(\"/\",2.0)\n"
   ]
  },
  {
   "cell_type": "markdown",
   "metadata": {},
   "source": [
    "<h2>Finding the Image Noise, Background Subtraction, and Aperture Photometry</h2>\n",
    "\n",
    "The astro image package provides methods to find the noise in the background of an image, to do a background subtaction around an individual object, and to perform aperture photometry of one or multiple objects. "
   ]
  },
  {
   "cell_type": "markdown",
   "metadata": {},
   "source": [
    "**Finding the Background Level of an Image and its Noise, using a Sigma-Clipping Method**\n",
    "\n",
    "The *background_sigmaClip* method is provided to find the background level and noise of an image. The method tries to identify emission from sources using the astropy [photutils](https://photutils.readthedocs.io/en/stable/) *make_source_mask* task to make a source mask (which is returned by the function). With the mask applied we use the [astropy](https://www.astropy.org/) *sigma_clipped_stats* function to find the sigma-clipped median and standard deviation of the background. The parameters of these two methods can be adjusted (see commented command below).\n",
    "\n",
    "Both the background level and the noise are stored as the *bkgMedian* and *bkgStd* attributes of the astroImage object. The source mask found is also returned, that way the same source mask can be provided to use on another image via the *maskMatch* parameter."
   ]
  },
  {
   "cell_type": "code",
   "execution_count": null,
   "metadata": {},
   "outputs": [],
   "source": [
    "# first we will switch back to Jy/pix units\n",
    "fitsImage.convertUnits('mJy/pix')\n",
    "\n",
    "# run the background analysis to find background median, standard-deviation, and source mask\n",
    "mask = fitsImage.background_sigmaClip()\n",
    "\n",
    "# as this runs on the whole image, the median and standard deviation are availabe via the\n",
    "print(\"Background level measured as: \", fitsImage.bkgMedian)\n",
    "print(\"Bacground noise measured as: \", fitsImage.bkgStd)"
   ]
  },
  {
   "cell_type": "markdown",
   "metadata": {},
   "source": [
    "If you want the background level to be automatically subtracted you can set the *apply* parameter to *True*, in this case the *bkgMedian* attribute will equal 0."
   ]
  },
  {
   "cell_type": "code",
   "execution_count": null,
   "metadata": {},
   "outputs": [],
   "source": [
    "# if you want the background level to be subtracted set apply to True (note then bkgLevel will then be 0):\n",
    "#mask = fitsImage.background_sigmaClip(apply=True)"
   ]
  },
  {
   "cell_type": "markdown",
   "metadata": {},
   "source": [
    "Many of the settings for the source-masking and the sigma-clipping can be adjusted, see the API documentation for more details.\n",
    "\n",
    "You can apply a background subtraction with the *constantBackSub* method, just provide it with the value to subtract. Although this method is redundant with the arithmetic method above."
   ]
  },
  {
   "cell_type": "code",
   "execution_count": null,
   "metadata": {},
   "outputs": [],
   "source": [
    "# apply a background subtraction\n",
    "# fitsImage.constantBackSub(fitsImage.bkgMedian)"
   ]
  },
  {
   "cell_type": "markdown",
   "metadata": {},
   "source": [
    "**Local Object Background Subtraction**\n",
    "\n",
    "You may wish to choose a particular region of an image to perform a background subtraction and estimate the image noise, for example around a particular source, or if you want to specify particular regions. Two methods are provided do perform a local background subtraction the *circularAnnulusBackSub* and *ellipticalAnnulusBackSub* methods use a circular or ellipical annulus, respectively (both rely on astropy [photutils](https://photutils.readthedocs.io/en/stable/) at their core).\n",
    "\n",
    "Let's look at the key inputs to these methods:  \n",
    "<pre>\n",
    ".circularAnnulusBackSub(<i>centre</i>    => Centre annulus, recommended to provide an astropy SkyCoordinate  \n",
    "                                     but can be an (X,Y) pixel coordinate instead.\n",
    "                        <i>inner</i>     => the inner radius of the annulus as an astropy quantity, if just a \n",
    "                                     float is provided that is assumed to be in pixels.  \n",
    "                        <i>outer</i>     => Same as for inner but setting the outer radius.\n",
    "                        <i>backNoise</i> => Return the standard deviation of the background region. (True/False)\n",
    "                        <i>apply</i>     => Apply the background subtraction to the image. (True/False)\n",
    "                       )\n",
    "</pre>\n",
    "The *ellipticalAnnulusBackSub* but just has more options due to the shape:\n",
    "<pre>\n",
    ".ellipticalAnnulusBackSub(<i>centre</i>      => Centre annulus, recommended to provide an astropy SkyCoordinate  \n",
    "                                         but can be an (X,Y) pixel coordinate instead.\n",
    "                          <i>inner</i>       => Either the semi-major axis of the inner ellipse (only if axisRatio\n",
    "                                         is set) either an astropy quantity or number of pixels,\n",
    "                                         or a list/tuple/array of the semi-major &amp; semi-minor axis.   \n",
    "                          <i>outer</i>       => Same as for inner ellipse but size the outer ellipse.\n",
    "                          <i>PA</i>          => The Position Angle of the ellipses (typically in East of North\n",
    "                                         but see API for full discussion).\n",
    "                          <i>axisRatio</i>   => The axis ratio of the ellipses, only required if only the semi-major\n",
    "                                         values are provided to <i>inner/outer</i>.\n",
    "                          <i>outerCircle</i> => Set the outer boundary of the annulus to be circular (True/False).\n",
    "                          <i>backNoise</i>   => Return the standard deviation of the background region. (True/False)\n",
    "                          <i>apply</i>       => Apply the background subtraction to the image. (True/False)\n",
    "                       )\n",
    "</pre>\n",
    "Additional parameters passed to the photutils function are given in the API. Let's try this method using an annulus around M100.."
   ]
  },
  {
   "cell_type": "code",
   "execution_count": null,
   "metadata": {},
   "outputs": [],
   "source": [
    "# perform cicular annulus subtraction and noise analysis\n",
    "circleBack, circlNoise = fitsImage.circularAnnulusBackSub(centre=centreM100, inner=6.0*u.arcmin, outer=7.0*u.arcmin, backNoise=True)\n",
    "\n",
    "# perform elliptical annulus subtraction and analysis\n",
    "ellipseBack, ellipNoise = fitsImage.ellipticalAnnulusBackSub(centre=centreM100, inner=6.0*u.arcmin, outer=7.0*u.arcmin, axisRatio=0.85, PA=30.0*u.deg, outerCircle=True, backNoise=True)\n",
    "\n",
    "# remember if you want to apply the background subtraction add apply=True to either command"
   ]
  },
  {
   "cell_type": "markdown",
   "metadata": {},
   "source": [
    "Now let's compare the different values we've measured across all three methods"
   ]
  },
  {
   "cell_type": "code",
   "execution_count": null,
   "metadata": {},
   "outputs": [],
   "source": [
    "# Let's now compare the two background and noise estimates\n",
    "print(\"\\t    Mask/Clip \\t Circular    Elliptical \")\n",
    "print(\"\\t     Method  \\t  Annulus      Annulus\")\n",
    "print(f\"Background:  {fitsImage.bkgMedian:.2f} \\t  {circleBack:.2f}         {ellipseBack:.2f}      (mJy)\")\n",
    "print(f\"    Noise:    {fitsImage.bkgStd:.2f} \\t   {circlNoise:.2f}          {ellipNoise:.2f}      (mJy)\")"
   ]
  },
  {
   "cell_type": "markdown",
   "metadata": {},
   "source": [
    "<h2>Aperture Photometry</h2>\n",
    "\n",
    "The astroImage object provides an easy method for performing aperture photometry. Note this procedure is fairly generic and will not do advanced corrections like correcting for extended PSF structure etc... These methods are essentially wrappers to the [photutils](https://photutils.readthedocs.io/en/stable/) aperture photometry functions. \n",
    "\n",
    "There are three types of aperture in-built this is circular, elliptical, and rectangular apertures, which can be run with the *circularAperture*, *elipticalAperture*, and the *rectangularAperture* methods. A key thing to know is based if the units of the image is recognised to be a surface-brightness unit (e.g., MJy/sr, or Jy arcsec<sup>-2</sup>). This is easily seen from the output astropy table (see below) where the column changes from *aperture_sum* to *aperture_mean*. \n",
    "\n",
    "**Simple Photometry**\n",
    "\n",
    "Let's try a simple case of using a circular aperture on M100, for this we just need to pass it a centre as the first argument, and radius (again an astropy quantity is recommended, but can also be in pixels). We also provide the name of the object via the *names* parameter: "
   ]
  },
  {
   "cell_type": "code",
   "execution_count": null,
   "metadata": {},
   "outputs": [],
   "source": [
    "# perform circular photometry\n",
    "circlePhotometry = fitsImage.circularAperture(centreM100, radius=4.2*u.arcmin, names='M100')\n",
    "\n",
    "# output astropy table\n",
    "circlePhotometry\n"
   ]
  },
  {
   "cell_type": "markdown",
   "metadata": {},
   "source": [
    "Now we can do a local background subtraction in the same call by using the *localBackSubtract* parameter giving a dictionary with the *inner* and *outer* radius defined. We can also provide an error map via *error* parameter to calculate the 'aperture error' assuming basic Gaussian statistics."
   ]
  },
  {
   "cell_type": "code",
   "execution_count": null,
   "metadata": {},
   "outputs": [],
   "source": [
    "# perform circular photometry with a local background subtraction\n",
    "circlePhotometry = fitsImage.circularAperture(centreM100, radius=4.2*u.arcmin, localBackSubtract={'inner':5.0*u.arcmin, 'outer':6.0*u.arcmin}, error=fitsImage.image/20.0, names='M100')\n",
    "circlePhotometry"
   ]
  },
  {
   "cell_type": "markdown",
   "metadata": {},
   "source": [
    "Lets now try measuring M100 using an elliptical aperture, a rectangular aperture, and compare the results. The elliptical aperture can be defined with *major* (semi-major axis), either *minor* or *axisRatio*, and *PA* (if using *localBackSubtract* can specify *outerCircle* if want the outer part of the background subtraction to be circular). For rectangular photometry, need to specify the *length*, *width* or \"ratio\", and *PA* of the rectangle (note any background annulus uses the same lenght ratios)."
   ]
  },
  {
   "cell_type": "code",
   "execution_count": null,
   "metadata": {},
   "outputs": [],
   "source": [
    "# perform elliptical aperture photometry\n",
    "ellipsePhotometry = fitsImage.ellipticalAperture(centreM100, major=4.2*u.arcmin, axisRatio=0.85, PA=30.0*u.deg, localBackSubtract={'inner':5.0*u.arcmin, 'outer':6.0*u.arcmin, \"outerCircle\":True})\n",
    "\n",
    "# perform rectangular photometry\n",
    "rectanglePhotometry = fitsImage.rectangularAperture(centreM100, length=8.4*u.arcmin, width=8.40*u.arcmin, PA=0.0*u.deg, localBackSubtract={'inner':9.0*u.arcmin, 'outer':10.0*u.arcmin})\n",
    "\n",
    "circlePhotometry['aperture_sum'][0]\n",
    "\n",
    "print(f\"   Circle Flux: {circlePhotometry['aperture_sum'][0]/1000.0:.1f} Jy  ({circlePhotometry['number_pixels'][0]:.0f} Pixels)\")\n",
    "print(f\"  Ellipse Flux: {ellipsePhotometry['aperture_sum'][0]/1000.0:.1f} Jy  ({ellipsePhotometry['number_pixels'][0]:.0f} Pixels)\")\n",
    "print(f\"Rectangle Flux: {rectanglePhotometry['aperture_sum'][0]/1000.0:.1f} Jy  ({rectanglePhotometry['number_pixels'][0]:.0f} Pixels)\")\n"
   ]
  },
  {
   "cell_type": "markdown",
   "metadata": {},
   "source": [
    "Let's just show a quick example where we do everything in pixel coordinates."
   ]
  },
  {
   "cell_type": "code",
   "execution_count": null,
   "metadata": {},
   "outputs": [],
   "source": [
    "# circular photometry with pixels\n",
    "pixPhotometry = fitsImage.circularAperture((301.6,302.0), radius=42.0, localBackSubtract={'inner':50.0, 'outer':60.0})\n",
    "print(f\"Pixel Flux: {pixPhotometry['aperture_sum'][0]/1000.0:.1f} Jy  ({pixPhotometry['number_pixels'][0]:.0f} Pixels)\")"
   ]
  },
  {
   "cell_type": "markdown",
   "metadata": {},
   "source": [
    "**Multi-Object Photometry**\n",
    "\n",
    "Quite often you will want to perform aperture photometry on more than one object, and there are variety of ways you can do this. Let's start by simultaneously measuring M100 and NGC4312 another extended local galaxy.\n",
    "\n",
    "The first method is instead of providing the centre as the first argument instead a dictionary is provided where each item is an object to perform photometry on, and each item is a dictionary given details of the settings to use. This is easiest to show in an example:"
   ]
  },
  {
   "cell_type": "code",
   "execution_count": null,
   "metadata": {},
   "outputs": [],
   "source": [
    "# First let's set the centre of NGC4312 with an astropy SkyCoord\n",
    "centreNGC4312 = SkyCoord(185.63, 15.538, unit=\"deg\", frame=\"icrs\")\n",
    "\n",
    "# create a dictionary for all objects, each object is a dictionary of the properties to use the object's aperture\n",
    "galInfo = {'M100':{'centre':centreM100, 'major':4.2*u.arcmin, 'minor':3.57*u.arcmin, \"PA\":30.0*u.deg, \"localBackSubtract\":{'inner':5.0*u.arcmin, 'outer':6.0*u.arcmin, \"outerCircle\":True}},\\\n",
    "           'NGC4312':{'centre':centreNGC4312, 'major':1.12*u.arcmin, 'axisRatio':0.733, \"PA\":-8.0*u.deg, \"localBackSubtract\":{'inner':2.0*u.arcmin, 'outer':3.0*u.arcmin, \"outerCircle\":True}}}\n",
    "\n",
    "# perform the elliptical aperture photometry\n",
    "ellipsePhotometry = fitsImage.ellipticalAperture(galInfo)\n",
    "ellipsePhotometry"
   ]
  },
  {
   "cell_type": "markdown",
   "metadata": {},
   "source": [
    "Alternatively, instead of providing a dictionary of all the objects (e.g., galInfo above), each of the inputs as in the single object photometry examples above can be instead be parsed a list of the parameters to vary."
   ]
  },
  {
   "cell_type": "code",
   "execution_count": null,
   "metadata": {
    "scrolled": true
   },
   "outputs": [],
   "source": [
    "# perform elliptical aperture photometry with each parameter a list of the values for each object.\n",
    "ellipsePhotometry = fitsImage.ellipticalAperture([centreM100,centreNGC4312], major=[4.2*u.arcmin,1.12*u.arcmin], minor=[3.57*u.arcmin, 0.82*u.arcmin], PA=[30*u.deg, -8.0*u.deg], localBackSubtract=[{'inner':5.0*u.arcmin, 'outer':6.0*u.arcmin, \"outerCircle\":True}, {'inner':2.0*u.arcmin, 'outer':3.0*u.arcmin, \"outerCircle\":True}])\n",
    "ellipsePhotometry"
   ]
  },
  {
   "cell_type": "markdown",
   "metadata": {},
   "source": [
    "In some circumstances you may want the apertures or some properties to all be the same size (like when measuring many background point sources). In this case any of the parameters can be kept fixed by giving a parameter a single value."
   ]
  },
  {
   "cell_type": "code",
   "execution_count": null,
   "metadata": {},
   "outputs": [],
   "source": [
    "centres = [SkyCoord(185.7962, 15.7438, unit=\"deg\", frame=\"icrs\"),\\\n",
    "           SkyCoord(185.6075, 15.8213, unit=\"deg\", frame=\"icrs\"),\\\n",
    "           SkyCoord(185.5368, 15.8798, unit=\"deg\", frame=\"icrs\")]\n",
    "\n",
    "circlePhotometry = fitsImage.circularAperture(centres, radius=25.0*u.arcsec, localBackSubtract={'inner':30.0*u.arcsec, 'outer':35.0*u.arcsec}, backMedian=True)\n",
    "circlePhotometry"
   ]
  },
  {
   "cell_type": "markdown",
   "metadata": {},
   "source": [
    "<h2>Curve's of Growth and Radial Profiles</h2>\n",
    "\n",
    "Instead of using a single aperture on an object, sometimes you may want to see how the flux of the source changes with the size of your aperture, or see what the radial profile is of your object. The aperture photometry commands in the previous section can be easily adjusted to do this by setting the *multiRadius* parameter to True.\n",
    "\n",
    "*(Note for rectangular case setting multi-radius to True, that the length parameter is now the semi-length)*"
   ]
  },
  {
   "cell_type": "code",
   "execution_count": null,
   "metadata": {
    "scrolled": true
   },
   "outputs": [],
   "source": [
    "# import numpy\n",
    "import numpy as np\n",
    "\n",
    "radialProfile = fitsImage.ellipticalAperture(centreM100, multiRadius=True, major=np.arange(0,306.0,6.0)*u.arcsec, axisRatio=0.85, PA=30.0*u.deg, localBackSubtract={'inner':5.0*u.arcmin, 'outer':6.0*u.arcmin, \"outerCircle\":True}, names='M100')\n",
    "radialProfile"
   ]
  },
  {
   "cell_type": "markdown",
   "metadata": {},
   "source": [
    "You may also want to do radial profiles for more than one object. Here is an example of applying this method to two extended objects in the image, each with its own local background subtraction."
   ]
  },
  {
   "cell_type": "code",
   "execution_count": null,
   "metadata": {
    "scrolled": true
   },
   "outputs": [],
   "source": [
    "galInfo = {\"M100\":{\"centre\":centreM100, \"axisRatio\":0.85, \"PA\":30.0*u.deg, \"localBackSubtract\":{'inner':5.0*u.arcmin, 'outer':6.0*u.arcmin}, \"outerCircle\":True},\\\n",
    "           \"NGC4312\":{'centre':centreNGC4312, 'axisRatio':0.733, \"PA\":-8.0*u.deg, \"localBackSubtract\":{'inner':2.0*u.arcmin, 'outer':3.0*u.arcmin, \"outerCircle\":True}}}\n",
    "\n",
    "radialProfile = fitsImage.ellipticalAperture(galInfo, multiRadius=True, major=np.arange(0,306.0,6.0)*u.arcsec)\n",
    "radialProfile"
   ]
  },
  {
   "cell_type": "code",
   "execution_count": null,
   "metadata": {
    "scrolled": true
   },
   "outputs": [],
   "source": [
    "radialProfile = fitsImage.ellipticalAperture([centreM100,centreNGC4312], multiRadius=True, major=np.arange(0,306.0,6.0)*u.arcsec, axisRatio=[0.85,0.733], PA=[30.0*u.deg, -8.0*u.deg], localBackSubtract=[{'inner':5.0*u.arcmin, 'outer':6.0*u.arcmin},{'inner':2.0*u.arcmin, 'outer':3.0*u.arcmin, \"outerCircle\":True}], names=['M100','NGC4312'])\n",
    "radialProfile"
   ]
  },
  {
   "cell_type": "code",
   "execution_count": null,
   "metadata": {},
   "outputs": [],
   "source": [
    "import matplotlib.pyplot as plt\n",
    "fig = plt.figure()\n",
    "f1 = plt.axes()\n",
    "f1.plot(radialProfile['Semi-Major'], radialProfile['M100_surface_brightness'])\n",
    "f1.set_yscale('log')\n",
    "f1.set_xlabel(\"Semi-Major (\" + str(radialProfile['Semi-Major'].unit) + \")\")\n",
    "f1.set_ylabel(\"Surface-Brightness Profile (\" + str(radialProfile['M100_surface_brightness'].unit) + \")\")"
   ]
  },
  {
   "cell_type": "markdown",
   "metadata": {},
   "source": [
    "<h1>Example Matching Resolution and Projection of One Image to Another</h1>\n",
    "\n",
    "To finish this tutorial we're going to look at a typical use case where you want to convole and project one image to match another.\n",
    "\n",
    "<h2>Convolution</h2>\n",
    "\n",
    "First we need to convolve the image to match the spatial resolution, but we need to define how to go from one to another. The convolve method provides a handy way to perform the convolution creating a new astroImage. This can be done in two ways:\n",
    " - Provide a kernel with a 2D numpy array. This is best to provide an exact match (note the pixel size must match). Eventually this package will access a database of kernels, or generate its own.\n",
    " - Assume everything is Gaussian. By default you can provide the FWHM of the Gaussian (in angular units) to convolve the image (or the standard deviation if set FWHM=False)\n",
    "The default is to preserve flux but by setting the 'peakNorm' to True you can conserve peak flux (note though the code cannot update beam areas/FWHM yet. Finally, the 'boundary' and 'fill_value' parameters can be given to the astropy convolution routine. \n",
    "\n",
    "In our example we'll assume the simple example that the 250&#181;m and 500&#181;m images have Gaussian PSFs of 18 and 36 arcseconds. Examples of the convolve method shown below:"
   ]
  },
  {
   "cell_type": "code",
   "execution_count": null,
   "metadata": {},
   "outputs": [],
   "source": [
    "# import numpy and astropy.units\n",
    "import numpy as np\n",
    "import astropy.units as u\n",
    "\n",
    "# Calculate the FWHM of the Gaussian we want to convolve the image by\n",
    "convFWHM = np.sqrt((36.0*u.arcsecond)**2.0 - (18.0*u.arcsecond)**2.0)\n",
    "\n",
    "# convolve the image\n",
    "smo250 = fitsImage.convolve(convFWHM)\n",
    "\n",
    "# alteratively if wanted to provide standard deviation\n",
    "#smo250 = fitsImage.convolve(convSTD, FWHM=False)\n",
    "\n",
    "# to provide a kernel imaage just load/create the array\n",
    "#smo250 = fitsImage.convolve(kernelImage)\n",
    "\n",
    "# to conserve the peak rather than total flux\n",
    "#smo250 = fitsImage.convolve(convFWHM, peakNorm=True)\n"
   ]
  },
  {
   "cell_type": "markdown",
   "metadata": {},
   "source": [
    "<h2>Reproject</h2>\n",
    "\n",
    "The next stage is to reproject the data so the image projection is the same (i.e., the pixels all line up). The astroImage object has the reproject method which works as a wrapper for the reporject package. The user must supply a header to reproject the image to, but can switch to the interpolation method by serring 'exact=False', or can specify to conserve flux (rather than surface-brightness) by setting 'conserveFlux=True'. Note that if the units of the image are 'Jy/pix' or 'mJy/pix' then the method will automatically conserve flux."
   ]
  },
  {
   "cell_type": "code",
   "execution_count": null,
   "metadata": {},
   "outputs": [],
   "source": [
    "# open the 500um image with astroImage\n",
    "image500 = astroImage(pj(folder,\"NGC4321_SPIRE_500.fits\"), dustpediaHeaderCorrect=True)\n",
    "\n",
    "# reproject the smoothed 250 image\n",
    "reproSmo250 = smo250.reproject(image500.header)\n",
    "\n",
    "# example with other keywords added\n",
    "#reproSmo250 = smo250.reproject(image500.header, exact=False, conserveFlux=True)"
   ]
  },
  {
   "cell_type": "markdown",
   "metadata": {},
   "source": [
    "Let's see how our smoothed and reprojected 250&#181;m map compares to the 500&#181;m map using our quick plot method:"
   ]
  },
  {
   "cell_type": "code",
   "execution_count": null,
   "metadata": {},
   "outputs": [],
   "source": [
    "print(\"Original 250um Image\")\n",
    "fitsImage.plot(stretch='log', cmap='inferno', hide_colourbar=True, recentre={\"RA\":185.72875*u.degree, \"DEC\":15.8225*u.degree, \"rad\":6.0*u.arcmin})"
   ]
  },
  {
   "cell_type": "code",
   "execution_count": null,
   "metadata": {},
   "outputs": [],
   "source": [
    "print(\"Smooth and Reprojected 250um Image\")\n",
    "reproSmo250.plot(stretch='log', cmap='inferno', hide_colourbar=True, recentre={\"RA\":185.72875*u.degree, \"DEC\":15.8225*u.degree, \"rad\":6.0*u.arcmin})"
   ]
  },
  {
   "cell_type": "code",
   "execution_count": null,
   "metadata": {},
   "outputs": [],
   "source": [
    "print(\"500um Image\")\n",
    "image500.plot(stretch='log', cmap='inferno', hide_colourbar=True, recentre={\"RA\":185.72875*u.degree, \"DEC\":15.8225*u.degree, \"rad\":6.0*u.arcmin})"
   ]
  },
  {
   "cell_type": "markdown",
   "metadata": {},
   "source": [
    "<h2>Cutouts</h2>\n",
    "\n",
    "Cutout description here."
   ]
  },
  {
   "cell_type": "code",
   "execution_count": null,
   "metadata": {},
   "outputs": [],
   "source": [
    "# create a cutout on M100\n",
    "cutout250 = reproSmo250.cutout(SkyCoord(ra=185.72875*u.degree, dec=15.8225*u.degree, frame='icrs'), 12.0*u.arcmin)\n",
    "\n",
    "# plot the cutout image\n",
    "reproSmo250.plot(stretch='log', cmap='inferno', hide_colourbar=True)"
   ]
  },
  {
   "cell_type": "markdown",
   "metadata": {},
   "source": [
    "<h2>Saving the astro image</h2>\n",
    "\n",
    "The astroImage object can be saved to a fits file, using the saveToFits method. This method takes the path to the location where you want to save the file, and you can allow the method to overwrite an exisiting file (just the same as astropy)."
   ]
  },
  {
   "cell_type": "code",
   "execution_count": null,
   "metadata": {},
   "outputs": [],
   "source": [
    "reproSmo250.saveToFits(pj(folder,\"reproSmo250.fits\"), overwrite=True)"
   ]
  },
  {
   "cell_type": "markdown",
   "metadata": {},
   "source": [
    "<h2>Other Advanced Methods</h2>\n",
    "\n",
    "There are also some more advance methods described in other notebooks, these are:\n",
    " - Colour-correct -> apply colour-corrections to the map\n",
    " - Central Wavelength Adjust -> Adjust the central wavelength assuming a model.\n",
    " - FFT combine -> Our method for 'feathering' FIR/sub-mm images to combine low and high-resolution images."
   ]
  }
 ],
 "metadata": {
  "kernelspec": {
   "display_name": "Python 3.7.9 ('py3')",
   "language": "python",
   "name": "python3"
  },
  "language_info": {
   "codemirror_mode": {
    "name": "ipython",
    "version": 3
   },
   "file_extension": ".py",
   "mimetype": "text/x-python",
   "name": "python",
   "nbconvert_exporter": "python",
   "pygments_lexer": "ipython3",
   "version": "3.7.6"
  },
  "vscode": {
   "interpreter": {
    "hash": "15ebfeb880eb018056edccb5fb575e712a492d7067a507180e23f8e10e68a89c"
   }
  }
 },
 "nbformat": 4,
 "nbformat_minor": 2
}
