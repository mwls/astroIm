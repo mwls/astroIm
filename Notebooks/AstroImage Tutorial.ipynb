{
 "cells": [
  {
   "cell_type": "markdown",
   "metadata": {},
   "source": [
    "# The astroImage Object #\n",
    "\n",
    "The astroIm package rebolves around the astroImage class to manipulate fits files, and is tuned to particularly work in with Far-IR/Sub-mm images. Many of the methods provided are wrappers to astropy functions. Here we show what methods are available for an astroImage file. To finish the tutorial we show the case where you want to match the resolution and projection of one image to another.\n",
    "\n",
    "This tutorial obtains data from the Dustpedia database, however, you can switch it to whatever fits file you want.\n"
   ]
  },
  {
   "cell_type": "markdown",
   "metadata": {},
   "source": [
    "## Obtaining Data for this Tutorial ##\n",
    "\n",
    "First we download example data from the dustpedia database of a SPIRE image of M100."
   ]
  },
  {
   "cell_type": "code",
   "execution_count": null,
   "metadata": {
    "scrolled": true
   },
   "outputs": [],
   "source": [
    "# import wget module to download data\n",
    "import urllib.request\n",
    "from os.path import join as pj\n",
    "\n",
    "# set folder to store data\n",
    "folder = \"/home/gandalf/spxmws/Hard-Drive/dustpedia\"\n",
    "\n",
    "# download 250 and 500um data file\n",
    "urllib.request.urlretrieve(\"http://www.astro.cf.ac.uk/pub/Matthew.Smith/web/astroIm/NGC4321_SPIRE_250.fits\",pj(folder,\"NGC4321_SPIRE_250.fits\"))\n",
    "urllib.request.urlretrieve(\"http://www.astro.cf.ac.uk/pub/Matthew.Smith/web/astroIm/NGC4321_SPIRE_500.fits\",pj(folder,\"NGC4321_SPIRE_500.fits\"))\n"
   ]
  },
  {
   "cell_type": "markdown",
   "metadata": {},
   "source": [
    "<h2>Importing the module and loading an image</h2>\n",
    "\n",
    "In the next box we will open a fits file. The code by defaults to loading the first extension, but other extensions can be loaded with the 'ext=X'. The code searches the header for the instrument, band and units of the image. If this information is not present, it can be added manually (see the commented line). astroImage can also take a astropy.fits hdu object."
   ]
  },
  {
   "cell_type": "code",
   "execution_count": null,
   "metadata": {},
   "outputs": [],
   "source": [
    "# import module\n",
    "from astroIm import astroImage\n",
    "\n",
    "# load your fits file - adjust path to your fits file\n",
    "fitsImage = astroImage(pj(folder,\"NGC4321_SPIRE_250.fits\"), dustpediaHeaderCorrect=True)\n",
    "\n",
    "# load line with extra inputs defined\n",
    "#fitsImage = astroImage(\"file.fits\", ext=0, instrument='SPIRE', band=250, unit='Jy/pix', \"FWHM\":10.0)\n",
    "\n",
    "# load from fits hdu\n",
    "#fitsImage = astroImage(hduobject, load=False)"
   ]
  },
  {
   "cell_type": "markdown",
   "metadata": {},
   "source": [
    "As mentioned the code attempts to ascertain the instrument and band (if not given when loading the image."
   ]
  },
  {
   "cell_type": "code",
   "execution_count": null,
   "metadata": {},
   "outputs": [],
   "source": [
    "print(\"Instrument: \", fitsImage.instrument) \n",
    "print(\"      Band: \", fitsImage.band)"
   ]
  },
  {
   "cell_type": "markdown",
   "metadata": {},
   "source": [
    "<h2>Quick Look Plot</h2>\n",
    "\n",
    "A function exists to get a quick look image using aplpy. The default output is to use a linear stretch:"
   ]
  },
  {
   "cell_type": "code",
   "execution_count": null,
   "metadata": {},
   "outputs": [],
   "source": [
    "# default quick look plot\n",
    "fitsImage.quicklookPlot()"
   ]
  },
  {
   "cell_type": "markdown",
   "metadata": {},
   "source": [
    "Quite often it is better for large dynamic ranges to use a log scale. The quicklookPlot has a algorithm to estimate the best parameters for a logscale:"
   ]
  },
  {
   "cell_type": "code",
   "execution_count": null,
   "metadata": {},
   "outputs": [],
   "source": [
    "# default quick look plot with log scale\n",
    "fitsImage.quicklookPlot(stretch='log')"
   ]
  },
  {
   "cell_type": "markdown",
   "metadata": {},
   "source": [
    "As a final example we can specify the colour map through the cmap parameter, to hide the colourbar, and whether to zoom in on a certain region. The recentre parameter controls the zoom using a dictionary with RA, DEC and radius giving each quantity with a unit. For example:"
   ]
  },
  {
   "cell_type": "code",
   "execution_count": null,
   "metadata": {},
   "outputs": [],
   "source": [
    "# import astropy units\n",
    "import astropy.units as u\n",
    "\n",
    "# call quick look plot with log scale, different colourmap,  and centre specified\n",
    "fitsImage.quicklookPlot(stretch='log', cmap='inferno', hide_colourbar=True, recentre={\"RA\":185.72875*u.degree, \"DEC\":15.8225*u.degree, \"rad\":6.0*u.arcmin})"
   ]
  },
  {
   "cell_type": "markdown",
   "metadata": {},
   "source": [
    "The user can also specify the following parameters in the method call:\n",
    "  - *save*: use *save* to set the path where to save the plot.\n",
    "  - *vmin*, *vmax*, *vmid*: the user can specify any of the minimum, maximum or middle (log only) of the colour bar. \n",
    "  - *facecolor*: use this parameter to set the background colour outside the images.\n",
    "  - *nancolour*: use this parameter to set the NaN colour."
   ]
  },
  {
   "cell_type": "markdown",
   "metadata": {},
   "source": [
    "<h2>Accessing the image array or header</h2>\n",
    "\n",
    "Similar to astropy the image array can be found using the image and header attributes. Here,we show this by getting the mean of the image, its unit, and a header keyword."
   ]
  },
  {
   "cell_type": "code",
   "execution_count": null,
   "metadata": {},
   "outputs": [],
   "source": [
    "print(\"Image Mean: \", fitsImage.image.mean(), fitsImage.unit)\n",
    "print(\"Image Reference Pix: (\", fitsImage.header['CRPIX1'], \",\", fitsImage.header['CRPIX2'], \")\")"
   ]
  },
  {
   "cell_type": "markdown",
   "metadata": {},
   "source": [
    "<h2>Get the Pixel Size</h2>\n",
    "\n",
    "To get the pixel size of the image, the getPixelScale method. This value is recorded in the pixSize attribute."
   ]
  },
  {
   "cell_type": "code",
   "execution_count": null,
   "metadata": {},
   "outputs": [],
   "source": [
    "# run method to get pixel sizes\n",
    "fitsImage.getPixelScale()\n",
    "\n",
    "# print the pixel size as attribute\n",
    "print(fitsImage.pixSize)"
   ]
  },
  {
   "cell_type": "markdown",
   "metadata": {},
   "source": [
    "<h2>Converting Units</h2>\n",
    "\n",
    "Possibly one of the most useful features of the astroImage class is that it provides an easy way to switch the image between different units. The user can provide the conversion to use or beam area to assume if desired (see commented version)."
   ]
  },
  {
   "cell_type": "code",
   "execution_count": null,
   "metadata": {},
   "outputs": [],
   "source": [
    "print(\"Initial Units: \", fitsImage.unit)\n",
    "print(\"Peak Pixel: \", fitsImage.image.max(), fitsImage.unit, \"\\n\")\n",
    "\n",
    "\n",
    "# convert units to that desired\n",
    "fitsImage.convertUnits(\"MJy/sr\")\n",
    "\n",
    "# if want to provide the conversion or beam area use the following inputs\n",
    "#fitsImage.convertUnits(\"MJy/sr\", conversion=1.0, beamArea=1.0)\n",
    "\n",
    "print()\n",
    "print(\"New Units: \", fitsImage.unit)\n",
    "print(\"Peak Pixel: \", fitsImage.image.max(), fitsImage.unit, \"\\n\")"
   ]
  },
  {
   "cell_type": "markdown",
   "metadata": {},
   "source": [
    "<h2>Simple Image Arithmatic</h2>\n",
    "\n",
    "This method is a bit redundant, as you can get the image change it how you want and save it back. Alteratively, the imageManipulation method takes operation (either '+','-','*','/','$**$), followed by the value to use. Here we show standard method where we double the image and use the method to restore the image back."
   ]
  },
  {
   "cell_type": "code",
   "execution_count": null,
   "metadata": {},
   "outputs": [],
   "source": [
    "# traditional (and probably more useful method)\n",
    "fitsImage.image = fitsImage.image * 2.0\n",
    "\n",
    "# using the method\n",
    "fitsImage.imageManipulation(\"/\",2.0)\n"
   ]
  },
  {
   "cell_type": "markdown",
   "metadata": {},
   "source": [
    "<h2>Finding the Image Noise, Background Subtraction, and Aperture Photometry</h2>\n",
    "\n",
    "The astro image package provides methods to find the noise in the background of an image, to background subtact an object and to perform aperture photometry. "
   ]
  },
  {
   "cell_type": "markdown",
   "metadata": {},
   "source": [
    "**Finding Background Value, Noise using Sigma-Clipping**\n",
    "\n",
    "To find the noise, background level, and get a source mask, a method is provided which tries to identify emission from sources using the photutils make_source_mask task (which uses an image segmentation algorithm). With this mask applied we then use the astrop sigma_clipped_stats function to find the sigma-clipped median and standard deviation of the background. The parameters of these two methods can be adjusted (see commented command below).\n",
    "\n",
    "The mask found is returned, that way the same source mask can be provided to use on another image via maskMatch parameter."
   ]
  },
  {
   "cell_type": "code",
   "execution_count": null,
   "metadata": {},
   "outputs": [],
   "source": [
    "# first we will switch back to Jy/pix units\n",
    "fitsImage.convertUnits('mJy/pix')\n",
    "\n",
    "# run the background analysis to find background median, standard-deviation, and source mask\n",
    "backMedian, backStd, mask = fitsImage.background_rms()\n",
    "\n",
    "# this is the version of the command with all paramters.\n",
    "# The parameters for the photutils make_source_mask are (snr, npixels, dilate_size)\n",
    "# The parameters for the sigma_clipped_stats are (sigClip, interations)\n",
    "# to provide a mask, give it via the maskMatch parameter.\n",
    "#backMedian, backStd, mask = fitsImage.background_rms(self, snr=2, npixels=5, dilate_size=11, sigClip=3.0, iterations=20, maskMatch=None)\n"
   ]
  },
  {
   "cell_type": "markdown",
   "metadata": {},
   "source": [
    "You can apply this background with the constantBackSub method, just give it the value to subtract. Although this method is redundant with the arithmetic method above."
   ]
  },
  {
   "cell_type": "markdown",
   "metadata": {},
   "source": [
    "**Ellipse Annulus Background**\n",
    "\n",
    "You may wish to choose a background around a particular source, or prefer a more manual method. The ellipseAnnulusBackSub method allows you to specify an ellipical annulus which will subtract the background in this region from the image and if 'backNoise' is set to true the standard deviation is returned.\n",
    "\n",
    "The parameters of the ellipse are provided in a dictionary:  \n",
    "<pre>\n",
    "ellipseAnnulusInfo = {\"centreRA\":123.1     # RA centre of ellipse in degrees  \n",
    "                      \"centreDEC\":12.3     # DEC centre of ellipse in degrees  \n",
    "                      \"innerRad\":[2.0,1.0] # The major and minor radius in arcmin of inner ellipse  \n",
    "                      \"outerRad\":[3.0,2.0] # The major and minor radius in arcmin of outer ellipse  \n",
    "                      \"PA\":12.3            # The Position Angle of ellipse (East of North)  \n",
    "                      }\n",
    "</pre>\n",
    "\n",
    "Let's try this method using an annulus around M100, and compare to the values found in the previous section."
   ]
  },
  {
   "cell_type": "code",
   "execution_count": null,
   "metadata": {},
   "outputs": [],
   "source": [
    "# first make a copy of the image before\n",
    "beforeImage = fitsImage.image.copy()\n",
    "\n",
    "# define the annulus to use\n",
    "backInfo = {\"centreRA\":185.730, \"centreDEC\":15.822, \"innerRad\":[4.2,4.2], \"outerRad\":[6.9,6.9], \"PA\":0.0}\n",
    "\n",
    "# perform ellipse annulus subtraction and analysis\n",
    "ellipNoise = fitsImage.ellipseAnnulusBackSub(backInfo, backNoise=True)\n",
    "\n",
    "# Let's now compare the two background and noise estimates\n",
    "print(\"\\t\\t Mask/Clip Method \\t Ellipse Annulus\")\n",
    "print(f\"Background:         {backMedian:.2f} \\t\\t       {fitsImage.image[100,100]-beforeImage[100,100]:.2f}      (mJy)\")\n",
    "print(f\"    Noise:           {backStd:.2f} \\t\\t       {ellipNoise:.2f}      (mJy)\")"
   ]
  },
  {
   "cell_type": "markdown",
   "metadata": {},
   "source": [
    "**Aperture Photometry**\n",
    "\n",
    "The package can also use circular, elliptical, or rectangular apertures to do photometry. This is pretty basic photometry, in that the pixels are added up within the specified region, check out my other repositories for flux measuring with aperture corrections (see JINGLE Paper 2, Smith et al. 2019, repo coming soon). The apertures are defined with a dictionary like above:\n",
    "\n",
    "Circular case:\n",
    "<pre>\n",
    "circleInfo = {\"centreRA\":123.1  # RA centre of ellipse in degrees  \n",
    "              \"centreDEC\":12.3  # DEC centre of ellipse in degrees  \n",
    "              \"radius\":1.0      # The radius of the circle in arcmin\n",
    "              }\n",
    "</pre>\n",
    "Elliptical case:\n",
    "<pre>\n",
    "ellipseInfo = {\"centreRA\":123.1   # RA centre of ellipse in degrees  \n",
    "               \"centreDEC\":12.3   # DEC centre of ellipse in degrees  \n",
    "               \"radius\":[1.0,1.0] # The manjor and minor radius in arcmin of the ellipse\n",
    "               \"PA\":12.3          # The Position Angle of ellipse (East of North)\n",
    "              }\n",
    "</pre>\n",
    "Rectangular case:\n",
    "<pre>\n",
    "rectangleInfo = {\"centreRA\":123.1   # RA centre of ellipse in degrees  \n",
    "                 \"centreDEC\":12.3   # DEC centre of ellipse in degrees  \n",
    "                 \"size\":[1.0,1.0]   # The size along X-axis and Y-axis\n",
    "                }\n",
    "</pre>\n",
    "The rectangular case is still under development, at the moment it can only be alligned to the image axis.\n",
    "\n",
    "Let's try measuring the flux of M100:"
   ]
  },
  {
   "cell_type": "code",
   "execution_count": null,
   "metadata": {},
   "outputs": [],
   "source": [
    "# define circular aperture\n",
    "circleInfo = {\"centreRA\":185.730, \"centreDEC\":15.822, \"radius\":4.2}\n",
    "# perform circular photometry\n",
    "circleFlux, circleNpix = fitsImage.circularAperture(circleInfo)\n",
    "\n",
    "\n",
    "# define elliptical aperture\n",
    "ellipseInfo = {\"centreRA\":185.730, \"centreDEC\":15.822, \"radius\":[4.2,4.2], \"PA\":0.0}\n",
    "# perform ellipse photometry\n",
    "ellipseFlux, ellipseNpix = fitsImage.ellipseAperture(ellipseInfo)\n",
    "\n",
    "# define rectangle aperture\n",
    "rectangleInfo = {\"centreRA\":185.730, \"centreDEC\":15.822, \"size\":[8.4,8.4]}\n",
    "# perform rectangular photometry\n",
    "recFlux, recNpix = fitsImage.rectangularAperture(rectangleInfo)\n",
    "\n",
    "print(f\"   Circle Flux: {circleFlux/1000.0:.1f} Jy  ({circleNpix} Pixels)\")\n",
    "print(f\"  Ellipse Flux: {ellipseFlux/1000.0:.1f} Jy  ({ellipseNpix} Pixels)\")\n",
    "print(f\"Rectangle Flux: {recFlux/1000.0:.1f} Jy  ({recNpix} Pixels)\")\n"
   ]
  },
  {
   "cell_type": "markdown",
   "metadata": {},
   "source": [
    "<h1>Example Matching Resolution and Projection of One Image to Another</h1>\n",
    "\n",
    "To finish this tutorial we're going to look at a typical use case where you want to convole and project one image to match another.\n",
    "\n",
    "<h2>Convolution</h2>\n",
    "\n",
    "First we need to convolve the image to match the spatial resolution, but we need to define how to go from one to another. The convolve method provides a handy way to perform the convolution creating a new astroImage. This can be done in two ways:\n",
    " - Provide a kernel with a 2D numpy array. This is best to provide an exact match (note the pixel size must match). Eventually this package will access a database of kernels, or generate its own.\n",
    " - Assume everything is Gaussian. By default you can provide the FWHM of the Gaussian (in angular units) to convolve the image (or the standard deviation if set FWHM=False)\n",
    "The default is to preserve flux but by setting the 'peakNorm' to True you can conserve peak flux (note though the code cannot update beam areas/FWHM yet. Finally, the 'boundary' and 'fill_value' parameters can be given to the astropy convolution routine. \n",
    "\n",
    "In our example we'll assume the simple example that the 250&#181;m and 500&#181;m images have Gaussian PSFs of 18 and 36 arcseconds. Examples of the convolve method shown below:"
   ]
  },
  {
   "cell_type": "code",
   "execution_count": null,
   "metadata": {},
   "outputs": [],
   "source": [
    "# import numpy and astropy.units\n",
    "import numpy as np\n",
    "import astropy.units as u\n",
    "\n",
    "# Calculate the FWHM of the Gaussian we want to convolve the image by\n",
    "convFWHM = np.sqrt((36.0*u.arcsecond)**2.0 - (18.0*u.arcsecond)**2.0)\n",
    "\n",
    "# convolve the image\n",
    "smo250 = fitsImage.convolve(convFWHM)\n",
    "\n",
    "# alteratively if wanted to provide standard deviation\n",
    "#smo250 = fitsImage.convolve(convSTD, FWHM=False)\n",
    "\n",
    "# to provide a kernel imaage just load/create the array\n",
    "#smo250 = fitsImage.convolve(kernelImage)\n",
    "\n",
    "# to conserve the peak rather than total flux\n",
    "#smo250 = fitsImage.convolve(convFWHM, peakNorm=True)\n"
   ]
  },
  {
   "cell_type": "markdown",
   "metadata": {},
   "source": [
    "<h2>Reproject</h2>\n",
    "\n",
    "The next stage is to reproject the data so the image projection is the same (i.e., the pixels all line up). The astroImage object has the reproject method which works as a wrapper for the reporject package. The user must supply a header to reproject the image to, but can switch to the interpolation method by serring 'exact=False', or can specify to conserve flux (rather than surface-brightness) by setting 'conserveFlux=True'. Note that if the units of the image are 'Jy/pix' or 'mJy/pix' then the method will automatically conserve flux."
   ]
  },
  {
   "cell_type": "code",
   "execution_count": null,
   "metadata": {},
   "outputs": [],
   "source": [
    "# open the 500um image with astroImage\n",
    "image500 = astroImage(pj(folder,\"NGC4321_SPIRE_500.fits\"), dustpediaHeaderCorrect=True)\n",
    "\n",
    "# reproject the smoothed 250 image\n",
    "reproSmo250 = smo250.reproject(image500.header)\n",
    "\n",
    "# example with other keywords added\n",
    "#reproSmo250 = smo250.reproject(image500.header, exact=False, conserveFlux=True)"
   ]
  },
  {
   "cell_type": "markdown",
   "metadata": {},
   "source": [
    "Let's see how our smoothed and reprojected 250&#181;m map compares to the 500&#181;m map using our quick plot method:"
   ]
  },
  {
   "cell_type": "code",
   "execution_count": null,
   "metadata": {},
   "outputs": [],
   "source": [
    "print(\"Original 250um Image\")\n",
    "fitsImage.quicklookPlot(stretch='log', cmap='inferno', hide_colourbar=True, recentre={\"RA\":185.72875*u.degree, \"DEC\":15.8225*u.degree, \"rad\":6.0*u.arcmin})"
   ]
  },
  {
   "cell_type": "code",
   "execution_count": null,
   "metadata": {},
   "outputs": [],
   "source": [
    "print(\"Smooth and Reprojected 250um Image\")\n",
    "reproSmo250.quicklookPlot(stretch='log', cmap='inferno', hide_colourbar=True, recentre={\"RA\":185.72875*u.degree, \"DEC\":15.8225*u.degree, \"rad\":6.0*u.arcmin})"
   ]
  },
  {
   "cell_type": "code",
   "execution_count": null,
   "metadata": {},
   "outputs": [],
   "source": [
    "print(\"500um Image\")\n",
    "image500.quicklookPlot(stretch='log', cmap='inferno', hide_colourbar=True, recentre={\"RA\":185.72875*u.degree, \"DEC\":15.8225*u.degree, \"rad\":6.0*u.arcmin})"
   ]
  },
  {
   "cell_type": "markdown",
   "metadata": {},
   "source": [
    "<h2>Saving the astro image</h2>\n",
    "\n",
    "The astroImage object can be saved to a fits file, using the saveToFits method. This method takes the path to the location where you want to save the file, and you can allow the method to overwrite an exisiting file (just the same as astropy)."
   ]
  },
  {
   "cell_type": "code",
   "execution_count": null,
   "metadata": {},
   "outputs": [],
   "source": [
    "reproSmo250.saveToFits(pj(folder,\"reproSmo250.fits\"), overwrite=True)"
   ]
  },
  {
   "cell_type": "markdown",
   "metadata": {},
   "source": [
    "<h2>Other Advanced Methods</h2>\n",
    "\n",
    "There are also some more advance methods described in other notebooks, these are:\n",
    " - Colour-correct -> apply colour-corrections to the map\n",
    " - Central Wavelength Adjust -> Adjust the central wavelength assuming a model.\n",
    " - FFT combine -> Our method for 'feathering' FIR/sub-mm images to combine low and high-resolution images."
   ]
  }
 ],
 "metadata": {
  "kernelspec": {
   "display_name": "Python 3",
   "language": "python",
   "name": "python3"
  },
  "language_info": {
   "codemirror_mode": {
    "name": "ipython",
    "version": 3
   },
   "file_extension": ".py",
   "mimetype": "text/x-python",
   "name": "python",
   "nbconvert_exporter": "python",
   "pygments_lexer": "ipython3",
   "version": "3.7.6"
  }
 },
 "nbformat": 4,
 "nbformat_minor": 2
}
